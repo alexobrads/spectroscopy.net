{
 "cells": [
  {
   "cell_type": "markdown",
   "metadata": {},
   "source": [
    "# STEP ONE:\n",
    "## Single line hypothesis test"
   ]
  },
  {
   "cell_type": "code",
   "execution_count": 1,
   "metadata": {},
   "outputs": [],
   "source": [
    "import numpy as np\n",
    "import matplotlib.pyplot as plt\n",
    "from scipy import spatial, special, optimize as op\n",
    "from itertools import combinations\n",
    "from tqdm import tqdm\n",
    "from time import time\n",
    "from IPython.display import Latex\n",
    "import pystan\n",
    "import spectroscopy_net as sn\n",
    "\n",
    "import random \n",
    "random.seed(1) "
   ]
  },
  {
   "cell_type": "markdown",
   "metadata": {},
   "source": [
    "# Parameters\n",
    "We set up a dictionary of the parameters we wish to use to create our toy data for the reference and the observed measurements. \n",
    "\n",
    "- ```theta_true``` = the vaules for our parameters in our linear model, In this case we can access the gradient coefficient with ```theta_true[0]``` and the translation constant with ```theta_true[1]``` .\n",
    "- ```deg``` = The degrees or order of the equation we are using, used in ```np.polyfit()``` to return linear equation. for linear equation we have 1 degree, polynomial has deg>1.\n",
    "- ```N_ref``` = the number of emission lines we want the reference data to contain. \n",
    "- ```N_obs``` = the number of emission lines we want the observation data to contain. \n",
    "- ```N_pix``` = number of pixels in the ccd.\n",
    "- ```f``` = fraction of emission lines in observation data that are not in the reference data.\n",
    "- ```p``` = number of lines used to create hash (excluding the edges). So  ``` p = 1 ``` means ```[-1, 0.76, 1]``` \n",
    "- ```wl_lower, wl_upper``` = lower and upper limit of reference measurements \n",
    "- ```intrinsic_px_obs_err``` = error in the observation \n",
    "- ```intrinsic_wl_ref_err``` = error in the reference list \n",
    "- ```min_bayes_factor``` = minimum bayes factor before accepting a solution\n",
    "\n"
   ]
  },
  {
   "cell_type": "code",
   "execution_count": 2,
   "metadata": {},
   "outputs": [],
   "source": [
    "theta_true = np.array([0.4523, 328])\n",
    "N_ref = 100\n",
    "N_obs = 10\n",
    "N_pix = 2048\n",
    "f = 0.2\n",
    "p = 1 \n",
    "k = 1 \n",
    "\n",
    "min_bayes_factor = 10**9 \n",
    "wl_lower, wl_upper = (300, 1200)\n",
    "deg = len(theta_true) - 1\n",
    "\n",
    "\n",
    "data_kwds = dict(N_ref=N_ref, N_obs=N_obs, N_pix=N_pix,\n",
    "                 wl_lower=wl_lower, wl_upper=wl_upper,\n",
    "                 f=f, intrinsic_px_obs_err=1e-2, intrinsic_wl_ref_err=1e-3)"
   ]
  },
  {
   "cell_type": "markdown",
   "metadata": {},
   "source": [
    "# Generating The Data\n",
    "Explaination of the ```generate_data()``` function.\n",
    "\n",
    "For this experiemnt to work we want to have two list of data, a reference list and an observation list. These two data sets will be related by some linear or polynomial equation. \n",
    "\n",
    "\\begin{align}\n",
    "a_{0}x^{n} + a_{1}x^{n-1} + \\cdot \\cdot \\cdot + a_{n} = y\n",
    "\\end{align}\n",
    "\n",
    "Where x is the pixel value and y is the measurement in angstroms.\n",
    "\n",
    "1. Using ```np.random.uniform()``` we create an array of observation data in the range (0, N_pix) with the number of lines defined by N_obs\n",
    "\n",
    "2. We create the reference data by taking these measurements and applying our equation to them with ```np.polyval(theta, px_obs)```\n",
    "3. We randomly remove a fraction of the observed emission lines, Then combine the observed data (some missing) to many randomly generated lines.\n",
    "\n",
    "```\n",
    "K = int(N_obs * (1 - f))\n",
    "idx = np.random.choice(N_obs, K, replace=False)\n",
    "wl_ref = np.hstack([wl_obs[idx],np.random.uniform(wl_lower, wl_upper, N_ref - K)]) \n",
    "```\n",
    "\n",
    "4. Now we create an array of length N_ref to represent brightness of emission lines (amp_ref) using ```np.random.multivariate_normal()```\n",
    "\n",
    "5. Now add a duplicate array with different scaling and a slight varience in relative brightness for the obs_amp\n",
    "6. Select the first K from the obs_amp list which correspond to the 8 measurements in our obs data that are also in the ref data. For lines that are in obs but not ref randomly select their amplitudes.\n",
    "8. Create two arrays called obs (3 x N_obs) and ref (3 x N_ref) that contain pixel/wavelength, brightness and noise for each measurement\n"
   ]
  },
  {
   "cell_type": "code",
   "execution_count": 3,
   "metadata": {},
   "outputs": [],
   "source": [
    "def generate_data(theta, N_ref, N_obs, N_pix, f=0.1, wl_lower=300, wl_upper=1200,\n",
    "                  intrinsic_px_obs_err=1e-3, intrinsic_wl_ref_err=1e-2,\n",
    "                  amp_obs_scale=10000, amp_ref_scale=65535):\n",
    "\n",
    "    px_obs = np.random.uniform(0, N_pix, N_obs)\n",
    "    wl_obs = np.polyval(theta, px_obs)\n",
    "\n",
    "    K = int(N_obs * (1 - f))\n",
    "    idx = np.random.choice(N_obs, K, replace=False)\n",
    "\n",
    "    wl_ref = np.hstack([\n",
    "        wl_obs[idx],\n",
    "        np.random.uniform(wl_lower, wl_upper, N_ref - K)\n",
    "    ])\n",
    "\n",
    "    unscaled_amplitudes = np.random.multivariate_normal([0, 0], \n",
    "                                                        [[1, 0.9], [0.9, 1]], \n",
    "                                                        size=N_ref)\n",
    "\n",
    "    amp_obs_scale, amp_ref_scale = (10000, 65535)\n",
    "    amplitudes = (unscaled_amplitudes - np.min(unscaled_amplitudes, axis=0)) \\\n",
    "               / np.ptp(unscaled_amplitudes, axis=0) \\\n",
    "               * np.array([amp_obs_scale, amp_ref_scale])\n",
    "\n",
    "    amp_obs_known, amp_ref = (amplitudes.T[0][:K], amplitudes.T[1])\n",
    "\n",
    "\n",
    "    amp_obs = np.random.uniform(0, amp_obs_scale, size=N_obs)\n",
    "    amp_obs[idx] = amp_obs_known\n",
    "\n",
    "    px_obs_err = np.random.normal(intrinsic_px_obs_err, intrinsic_px_obs_err/10, size=N_obs)\n",
    "    wl_ref_err = np.random.normal(intrinsic_wl_ref_err, intrinsic_wl_ref_err/10, size=N_ref)\n",
    "\n",
    "    px_obs += np.random.normal(0, intrinsic_px_obs_err, size=N_obs)\n",
    "    wl_ref += np.random.normal(0, intrinsic_wl_ref_err, size=N_ref)\n",
    "\n",
    "    obs = (px_obs, amp_obs, px_obs_err)\n",
    "    ref = (wl_ref, amp_ref, wl_ref_err)\n",
    "    return obs, ref, wl_obs"
   ]
  },
  {
   "cell_type": "markdown",
   "metadata": {},
   "source": [
    "# Combinations\n",
    "Nice example of how doing maths in log rapidly speeds up computation time\n",
    "\n",
    "By taking the log of equations we an rapidly speed up compution time. For example, We will be dealing with combinations and perumtations in this project. As an example, The equation for combinations is seen below with \n",
    "- c = number of combinations\n",
    "- n = number of objects in set \n",
    "- q = number of objects chosen from n\n",
    "\n",
    "\\begin{align}\n",
    "c = \\frac{n!}{q!(n-q)!} \\\\\n",
    "\\end{align}\n",
    "\n",
    "\\begin{align}\n",
    "\\log{c} = \\log{n!} - \\log{q!} - \\log{(n-q)!} \\\\\n",
    "\\end{align}\n",
    "\n",
    "\n",
    "\n",
    "In the code we use special functions for computing the log factorials whihc require the +1 inside the log."
   ]
  },
  {
   "cell_type": "code",
   "execution_count": 4,
   "metadata": {},
   "outputs": [],
   "source": [
    "def number_of_combinations(n, q):\n",
    "\n",
    "    C = np.exp(special.loggamma(n + 1) - special.loggamma(q + 1) - special.loggamma(n + 1 - q))\n",
    "    return int(np.round(C))"
   ]
  },
  {
   "cell_type": "markdown",
   "metadata": {},
   "source": [
    "# KD-Trees\n",
    "An index into a set of k-dimensional points which can be used to rapidly look up the nearest neighbors of any point. \n",
    "\n",
    "(Maneewongvatana and Mount 1999)\n",
    "\n",
    "\n",
    "1. Create the shapes for memmaps of both indices and ratios for our reference list for quick retrival and file handling.\n",
    "2. Here we use a loop to populate the memmap for both ratios and indices.\n",
    "3. Because we are only queering for the ratio we create the KD-tree on this memmap only.\n",
    "4. This KD-tree contains the ratios of all the combinations in the reference list.\n",
    "\n",
    "We create the ratios here using the transofrmation:\n",
    "\n",
    "\n",
    "\\begin{align}\n",
    "Mid = \\frac{V - (V_{max} + V_{min})}{2}\n",
    "\\end{align}\n",
    "\n",
    "\n",
    "\\begin{align}\n",
    "\\vec{V}_{transformed} = \\frac{\\vec{V} - Mid}{max(\\vec{V} - Mid)}\n",
    "\\end{align}\n"
   ]
  },
  {
   "cell_type": "code",
   "execution_count": 5,
   "metadata": {},
   "outputs": [],
   "source": [
    "def grow_tree(wl_ref, p=1):\n",
    "\n",
    "    if p < 1:\n",
    "        raise ValueError(\"p > 1\")\n",
    "\n",
    "    q = p + 2\n",
    "    n = len(wl_ref)\n",
    "    t = number_of_combinations(n, p + 2)\n",
    "\n",
    "    indices = np.memmap(\"indices_1.memmap\", mode=\"w+\", shape=(t, q), dtype=int)\n",
    "    ratios = np.memmap(\"ratios_1.memmap\", mode=\"w+\", shape=(t, p), dtype=float)\n",
    "\n",
    "    for i, idx in tqdm(enumerate(combinations(range(n), q)), total=t, disable=True):\n",
    "        # note that itertools.combinations gives positive ordered values\n",
    "        v = np.sort(wl_ref[list(idx)])\n",
    "        ratios[i] = (v[1:-1] - v[0])/(v[-1] - v[0])\n",
    "        indices[i] = idx\n",
    "\n",
    "    tree = spatial.KDTree(ratios)\n",
    "\n",
    "    return indices, ratios, tree"
   ]
  },
  {
   "cell_type": "markdown",
   "metadata": {},
   "source": [
    "# Background Model\n",
    "\n",
    "We have to compare our hypothesised solution and how likely it is to a solution that is definitly wrong. We call the incorrect solution the background model. \n",
    "To generate a figure for this model, we calcuate the probability of the case where an emission line in our camera is equally likely to be at any position in the range of the reference data. \n",
    "We then sum the probabilities for all our measured lines to obtain the total probability of the background (wrong) model. \n",
    "\n",
    "\\begin{align}\n",
    "Pr_{BKG}= \\sum_{n = 0}^{N_{obs}} \\frac{1^{n}}{ref_{max} - ref_{min}}\n",
    "\\end{align}\n",
    "\n",
    "We of course do this in log to save computational power.\n",
    "\n",
    "\\begin{align}\n",
    "ln(Pr_{BKG})= \\sum_{n = 0}^{N_{obs}} -(1^{n})\\log{(ref_{max} - ref_{min})}\n",
    "\\end{align}\n",
    "\n",
    "\n",
    "\n",
    "# Foreground Model\n",
    "\n",
    "The foreground model is perhaphs the most important part of this code, This is the probability of what we believe to be the correct solution. \n",
    "We consider how likely our hypothesised solution is by evaluating the normal distribution around each of the reference wavelengths and seeing how well our estimated wavelength fits into this distribution. \n",
    "\n",
    "The normal distribution has the following form:\n",
    "\n",
    "- $\\mu$ = Mean\n",
    "- $\\sigma$ = Standard deviation \n",
    "- $\\sigma^{2}$ = Variance\n",
    "\n",
    "\\begin{align}\n",
    "\\mathcal{L} = \\frac{1}{\\sqrt{2 \\pi \\sigma^{2}}} exp\\Big[-\\frac{(x-\\mu)^{2}}{2 \\sigma^{2}}\\Big]\n",
    "\\end{align}\n",
    "\n",
    "Of course we transform this into a log equation to save computational time.\n",
    "\n",
    "\\begin{align}\n",
    "\\log{(\\mathcal{L})} = -\\log{\\Big(\\sqrt{2 \\pi \\sigma^{2}}\\Big)} - \\frac{(x- \\mu)^{2}}{2 \\sigma^{2}}\n",
    "\\end{align}\n",
    "\n",
    "As the first term is just a constant we can simply write \n",
    "\n",
    "\\begin{align}\n",
    "\\log{(\\mathcal{L})} = K - \\frac{1}{2} \\chi^{2}\n",
    "\\end{align}\n",
    "\n",
    "Where $\\chi^{2} = (Obs-Ref)^{2}$\n",
    "\n",
    "Hence to retrive the maximum likelihood we want to minimize $\\chi^{2}$ \n",
    "\n",
    "We calculate this by considering...\n",
    "- ```theta``` = best fit parameters for relating pixel value to wavelength. \n",
    "- ```px_obs``` = The measurements.\n",
    "- ```wl_ref``` = Reference list.\n",
    "- ```px_obs_error``` = Error in the measurements.\n",
    "- ```wl_ref_error``` = Error in the reference measurements. \n",
    "\n",
    "\n",
    "1. We first use our parameters from our hypothesised solution to map our observations to Agnstroms. \n",
    "2. We now take each measurement in Agnstroms and calculate the closest match in the reference list. Doing this for each one we find a closest match to all our observation measurements.\n",
    "3. We then calculate the chi squared value for each of our observations given the uncertainties and see how well each observation is explained by these parameters given the noise. does it fit or not?\n",
    "\n",
    "\n",
    "\n"
   ]
  },
  {
   "cell_type": "code",
   "execution_count": 6,
   "metadata": {},
   "outputs": [],
   "source": [
    "def ll_foreground(theta, px_obs, wl_ref, px_obs_err=1e-3, wl_ref_err=1e-3):\n",
    "    \n",
    "    wl_obs = np.polyval(theta, px_obs).reshape(-1, 1)\n",
    "    D = spatial.distance_matrix(wl_obs, wl_ref.reshape(-1, 1))\n",
    "    idx = np.argmin(D, axis=1)\n",
    "    best_match = wl_ref[idx]\n",
    "    chisq = np.min(D, axis=1)**2\n",
    "\n",
    "    # TODO: do the ivar properly \n",
    "    ivar = wl_ref_err**-2\n",
    "    return -0.5 * chisq * ivar, best_match \n",
    "\n",
    "def ll_background(px_obs):\n",
    "    return -np.ones(len(px_obs)) * np.log(wl_upper - wl_lower)"
   ]
  },
  {
   "cell_type": "markdown",
   "metadata": {},
   "source": [
    "# Mixture Model \n",
    "\n",
    "Since some of the data in our observation list wont be in the reference list, when we calculate the probability and bayes factor of our foreground vs background model we need to use a mixture model that accounts for some of the data being outliers. \n",
    "\n",
    "Normaly the likelihood without a mixture model would be calculated by the following...\n",
    "\n",
    "\n",
    "\\begin{align}\n",
    "\\mathcal{L} = \\prod_{i=1}^{N} p( y_{i} | x_{i}, \\sigma_{yi}, m, b)\n",
    "\\end{align}\n",
    "\n",
    "With a Bayesian generalization of:\n",
    "\n",
    "\\begin{align}\n",
    "p( m, b | \\{ y_{i} \\}_{i=1}^{N}, I) = \\frac{p( \\{ y_{i} \\}_{i=1}^{N} | m, b, I)p(m, b|I)}{p(\\{y_{i} \\}_{i=1}^{N}|I)}\n",
    "\\end{align}\n",
    "\n",
    "\n",
    "Where $m, b$ are model parameters, $\\{ y_{i} \\}_{i=1}^{N}$ is all the data $y_{i}$ and $I$ is prior knowledge of the $x_{i}$ and $ \\sigma_{yi}$\n",
    "\n",
    "But this assumes that all the data is \"good\", which in our case is not. And hence, to account for this unknown fraction of outliers, when we calculate our likelihood and bayes factor we need to add some more parameters. We add a parameter $P_{b}$, which a binary flag associated to each point. We also have to account for the mean and varience of our \"bad\" points in $y$ so we also add parameters $Y_{b}$ and $V_{b}$.\n",
    "\n",
    "We can pick a simple model for $p(P_{b})$, Where $Q \\in [0,1]$ is a constant that sets the prior probability a point is either good or bad. (the fraction of outliers in our data)\n",
    "\n",
    "\\begin{align}\n",
    "p(P_{b}) = \n",
    "\\begin{cases}\n",
    "Q \\quad{} \\quad{} \\text{if} \\quad{} P_{b} = 0\\\\ 1-Q \\quad{} \\text{if} \\quad{} P_{b} = 1\n",
    "\\end{cases}\n",
    "\\end{align}\n",
    "\n",
    "With this the likelihood now becomes:\n",
    "\n",
    "\\begin{align}\n",
    "\\mathcal{L} = \\prod_{i=1}^{N} [p_{fg}(\\{ y_{i} \\}_{i=1}^{N}|m, b, I)]^{q_{i}} [p_{bg}(\\{ y_{i} \\}_{i=1}^{N}|Y_{b}, V_{b}, I)]^{1-q_{1}}\n",
    "\\end{align}\n",
    "\n",
    "\n",
    "\\begin{align}\n",
    "\\mathcal{L} = \\prod_{i=1}^{N} \\Big[\\frac{1}{\\sqrt{2 \\pi \\sigma_{yi}^{2}}} \\exp(- \\frac{(y_{i} -mx_{i} - b)^{2}}{2 \\sigma_{yi}^{2}})\\Big]^{q_{i}} \\Big[\\frac{1}{\\sqrt{2 \\pi (V_{b} + \\sigma_{yi}^{2})}} \\exp(-\\frac{(y_{i} - Y_{b})^{2}}{2(V_{b} + \\sigma_{yi}^{2})})\\Big]^{1-q_{i}}\n",
    "\\end{align}\n",
    "\n",
    "\n",
    "If we define $\\theta = (m, b, \\{q_{i} \\}_{i=1}^{N}, P_{b}, Y_{b}, V_{b})$  then the Bayesian generalization becomes:\n",
    "\n",
    "\\begin{align}\n",
    "p(\\theta, I) = \\frac{p( \\{ y_{i} \\}_{i=1}^{N} | \\theta, I)p(\\theta |I)}{p(\\{y_{i} \\}_{i=1}^{N}|I)}\n",
    "\\end{align}\n",
    "\n",
    "\n",
    "\\begin{align}\n",
    "\\mathcal{L} = \\prod_{i=1}^{N} \\Big[\\frac{1}{\\sqrt{2 \\pi \\sigma_{yi}^{2}}} \\exp(- \\frac{(y_{i} -mx_{i} - b)^{2}}{2 \\sigma_{yi}^{2}})\\Big]^{q_{i}} \\Big[\\frac{1}{\\sqrt{2 \\pi (V_{b} + \\sigma_{yi}^{2})}} \\exp(-\\frac{(y_{i} - Y_{b})^{2}}{2(V_{b} + \\sigma_{yi}^{2})})\\Big]^{1-q_{i}}\n",
    "\\end{align}\n",
    "\n",
    "\n",
    "# Likelihood Function\n",
    "\n",
    "This caclulates the likelihood of our model given the equation below:\n",
    "\n",
    "\\begin{align}\n",
    "\\mathcal{L} = \\prod_{i=1}^{N} \\Big[\\frac{1}{\\sqrt{2 \\pi \\sigma_{yi}^{2}}} \\exp(- \\frac{(y_{i} -mx_{i} - b)^{2}}{2 \\sigma_{yi}^{2}})\\Big]^{q_{i}} \\Big[\\frac{1}{\\sqrt{2 \\pi (V_{b} + \\sigma_{yi}^{2})}} \\exp(-\\frac{(y_{i} - Y_{b})^{2}}{2(V_{b} + \\sigma_{yi}^{2})})\\Big]^{1-q_{i}}\n",
    "\\end{align}\n",
    "\n",
    "\n",
    "\n",
    "# Prior Function\n",
    "\n",
    "\n",
    "This function takes a single or array of $Q$ values and asigns its binary value acording to the following model:\n",
    "\n",
    "\\begin{align}\n",
    "p(P_{b}) = \n",
    "\\begin{cases}\n",
    "Q \\quad{} \\quad{} \\text{if} \\quad{} P_{b} = 0\\\\ 1-Q \\quad{} \\text{if} \\quad{} P_{b} = 1\n",
    "\\end{cases}\n",
    "\\end{align}\n",
    "\n",
    "If we know which points are bad we can assign that at this stage but because we dont we just treate all points equally\n",
    "\n",
    "\n",
    "# Probability Function\n",
    "\n",
    "Combines the prior with the likelihood to determine the probability of a range of prior values"
   ]
  },
  {
   "cell_type": "code",
   "execution_count": 7,
   "metadata": {},
   "outputs": [],
   "source": [
    "def ln_likelihood(w, theta, px_obs, wl_ref):\n",
    "    w = np.atleast_2d(w).T\n",
    "    bg = np.log(1-w) + np.atleast_2d(ll_background(px_obs))\n",
    "    \n",
    "    fg_ln, best_match = ll_foreground(theta, px_obs, wl_ref)\n",
    "    \n",
    "    fg = np.log(w) + np.atleast_2d(fg_ln)\n",
    "    return np.sum(special.logsumexp([bg, fg], axis=0), axis=1), best_match\n",
    "\n",
    "def ln_prior(w, theta):\n",
    "    lp = np.zeros(np.atleast_1d(w).size)\n",
    "    lp[(w > 1) | (w < 0)] = -np.inf\n",
    "    return lp\n",
    "\n",
    "def ln_probability(w, theta, px_obs, wl_ref):\n",
    "    like_ln, best_match = ln_likelihood(w, theta, px_obs, wl_ref)\n",
    "    ln_prob = ln_prior(w, theta) + like_ln\n",
    "    return ln_prob, best_match "
   ]
  },
  {
   "cell_type": "markdown",
   "metadata": {},
   "source": [
    "# Run Example\n",
    "\n",
    "Now we will test how well this works with a simple base case.\n",
    "\n",
    "1. Generate data\n",
    "2. Build background model and prob\n",
    "3. Build KD-Tree"
   ]
  },
  {
   "cell_type": "code",
   "execution_count": 8,
   "metadata": {},
   "outputs": [
    {
     "ename": "ValueError",
     "evalue": "not enough values to unpack (expected 3, got 2)",
     "output_type": "error",
     "traceback": [
      "\u001b[0;31m---------------------------------------------------------------------------\u001b[0m",
      "\u001b[0;31mValueError\u001b[0m                                Traceback (most recent call last)",
      "\u001b[0;32m<ipython-input-8-cd29506ab942>\u001b[0m in \u001b[0;36m<module>\u001b[0;34m\u001b[0m\n\u001b[0;32m----> 1\u001b[0;31m \u001b[0mobs\u001b[0m\u001b[0;34m,\u001b[0m \u001b[0mref\u001b[0m\u001b[0;34m,\u001b[0m \u001b[0mwl_obs\u001b[0m \u001b[0;34m=\u001b[0m \u001b[0msn\u001b[0m\u001b[0;34m.\u001b[0m\u001b[0mgenerate_data\u001b[0m\u001b[0;34m(\u001b[0m\u001b[0mtheta_true\u001b[0m\u001b[0;34m,\u001b[0m \u001b[0;34m**\u001b[0m\u001b[0mdata_kwds\u001b[0m\u001b[0;34m)\u001b[0m\u001b[0;34m\u001b[0m\u001b[0;34m\u001b[0m\u001b[0m\n\u001b[0m\u001b[1;32m      2\u001b[0m \u001b[0mpx_obs\u001b[0m\u001b[0;34m,\u001b[0m \u001b[0mamp_obs\u001b[0m\u001b[0;34m,\u001b[0m \u001b[0mpx_obs_err\u001b[0m \u001b[0;34m=\u001b[0m \u001b[0mobs\u001b[0m\u001b[0;34m\u001b[0m\u001b[0;34m\u001b[0m\u001b[0m\n\u001b[1;32m      3\u001b[0m \u001b[0mwl_ref\u001b[0m\u001b[0;34m,\u001b[0m \u001b[0mamp_ref\u001b[0m\u001b[0;34m,\u001b[0m \u001b[0mwl_ref_err\u001b[0m \u001b[0;34m=\u001b[0m \u001b[0mref\u001b[0m\u001b[0;34m\u001b[0m\u001b[0;34m\u001b[0m\u001b[0m\n\u001b[1;32m      4\u001b[0m \u001b[0mC\u001b[0m \u001b[0;34m=\u001b[0m \u001b[0mnumber_of_combinations\u001b[0m\u001b[0;34m(\u001b[0m\u001b[0mlen\u001b[0m\u001b[0;34m(\u001b[0m\u001b[0mpx_obs\u001b[0m\u001b[0;34m)\u001b[0m\u001b[0;34m,\u001b[0m \u001b[0mp\u001b[0m \u001b[0;34m+\u001b[0m \u001b[0;36m2\u001b[0m\u001b[0;34m)\u001b[0m\u001b[0;34m\u001b[0m\u001b[0;34m\u001b[0m\u001b[0m\n\u001b[1;32m      5\u001b[0m \u001b[0mln_bg_prob\u001b[0m \u001b[0;34m=\u001b[0m \u001b[0mnp\u001b[0m\u001b[0;34m.\u001b[0m\u001b[0msum\u001b[0m\u001b[0;34m(\u001b[0m\u001b[0mll_background\u001b[0m\u001b[0;34m(\u001b[0m\u001b[0mpx_obs\u001b[0m\u001b[0;34m)\u001b[0m\u001b[0;34m)\u001b[0m\u001b[0;34m\u001b[0m\u001b[0;34m\u001b[0m\u001b[0m\n",
      "\u001b[0;31mValueError\u001b[0m: not enough values to unpack (expected 3, got 2)"
     ]
    }
   ],
   "source": [
    "obs, ref, wl_obs = sn.generate_data(theta_true, **data_kwds)\n",
    "px_obs, amp_obs, px_obs_err = obs\n",
    "wl_ref, amp_ref, wl_ref_err = ref\n",
    "C = number_of_combinations(len(px_obs), p + 2)\n",
    "ln_bg_prob = np.sum(ll_background(px_obs))\n",
    "indices, ratios, tree = grow_tree(wl_ref, p=p)"
   ]
  },
  {
   "cell_type": "markdown",
   "metadata": {},
   "source": [
    "# Solve Problem\n",
    "Now we will use the data generated above and run the observations through our hypothesis test to try and the correct reference wavelength that matchs to what was measured in our CCD\n",
    "\n",
    "\n",
    "1. Set variable ```best_bayes_factor``` and ```best_theta``` to None to start with\n",
    "2. Create combinations from observation list and sort by brightest lines first\n",
    "3. Select one and calculate the ratio\n",
    "4. With this ratio query the KD-Tree for a match\n",
    "5. Once a match is found calculate the ```theta``` values from these three lines\n",
    "6. Apply theta value to rest of obs lines and record hypothesised all line matches as ```wl_ref_match```\n",
    "7. Create a grid of 100 values representing fraction of outliers to 1%\n",
    "8. Calculate the proability given our observations, the reference list and our theta values for each fraction of outliers. \n",
    "9. Save the fraction of outliers that provide the highest probability from our grid\n",
    "10. With this best outlier fraction calculate the bayes factor\n",
    "11. If the bayes factor is above our threshold, end and provide solution"
   ]
  },
  {
   "cell_type": "code",
   "execution_count": 9,
   "metadata": {},
   "outputs": [
    {
     "name": "stderr",
     "output_type": "stream",
     "text": [
      "\r",
      "  0%|          | 0/120 [00:00<?, ?it/s]"
     ]
    },
    {
     "name": "stdout",
     "output_type": "stream",
     "text": [
      "Solution found\n",
      "Bayes Factor: [7.85363452e+11]\n",
      "Guessed Theta: [  0.45229902 328.00242292]\n",
      "True Theta: [  0.4523 328.    ]\n",
      "Theta diff: 5.870547761716746e-06\n",
      "Fraction of outliers: 0.5858585858585859\n"
     ]
    },
    {
     "name": "stderr",
     "output_type": "stream",
     "text": [
      "\n"
     ]
    },
    {
     "data": {
      "text/plain": [
       "[<matplotlib.lines.Line2D at 0x11eb217f0>]"
      ]
     },
     "execution_count": 9,
     "metadata": {},
     "output_type": "execute_result"
    },
    {
     "data": {
      "image/png": "[encoded data removed]",
      "text/plain": [
       "<Figure size 432x288 with 1 Axes>"
      ]
     },
     "metadata": {
      "needs_background": "light"
     },
     "output_type": "display_data"
    }
   ],
   "source": [
    "best_bayes_factor, best_theta = (None, None)\n",
    "\n",
    "for i, obs_idx in tqdm(enumerate(combinations(np.argsort(amp_obs), p + 2)), total=C):\n",
    "    px_obs_ = np.sort(px_obs[list(obs_idx)])\n",
    "    ratios = (px_obs_[1:-1] - px_obs_[0])/(px_obs_[-1] - px_obs_[0])\n",
    "    print(ratios)\n",
    "    ds, idxs = map(np.atleast_1d, tree.query(ratios, k=k))\n",
    "\n",
    "    for d, idx in zip(ds, idxs):\n",
    "        wl_ref_ = np.sort(wl_ref[indices[idx]])\n",
    "        theta = np.polyfit(px_obs_, wl_ref_, deg)\n",
    "        ws = np.linspace(0, 1, 100)[1:-1]\n",
    "        \n",
    "        ln_prob_best, best_match = ln_probability(ws, theta, px_obs, wl_ref)\n",
    "        \n",
    "        w = ws[np.argmax(ln_prob_best)]\n",
    "        \n",
    "        ln_prob, best_match = ln_probability(w, theta, px_obs, wl_ref)\n",
    "        \n",
    "        bayes_factor = np.exp(ln_prob - ln_bg_prob)\n",
    "\n",
    "        if best_bayes_factor is None or bayes_factor > best_bayes_factor:\n",
    "            best_bayes_factor, best_theta = (bayes_factor, theta)\n",
    "\n",
    "        if bayes_factor > min_bayes_factor:\n",
    "            break\n",
    "\n",
    "    if best_bayes_factor > min_bayes_factor:\n",
    "        print(\"Solution found\")\n",
    "        print(\"Bayes Factor:\", best_bayes_factor)\n",
    "        print(\"Guessed Theta:\", theta)\n",
    "        print(\"True Theta:\", theta_true)\n",
    "        before = np.sum((theta_true - theta)**2)\n",
    "        print(\"Theta diff:\", before)\n",
    "        print(\"Fraction of outliers:\", w)\n",
    "        break\n",
    "\n",
    "else:\n",
    "    print(\"Unsolved problem\")\n",
    "    \n",
    "    \n",
    "fig, ax = plt.subplots()\n",
    "ax.plot(ws, ln_prob_best)\n"
   ]
  },
  {
   "cell_type": "markdown",
   "metadata": {},
   "source": [
    "# Optimization of Solution\n",
    "\n",
    "Now that we believe we have matched the observational data to the reference data we want to use all of the obseration points (not just three) to fit the true solution through all the points. \n",
    "\n",
    "To do this quickly and efficently we use Stan:\n",
    "\n",
    "\"Stan is a state-of-the-art platform for statistical modeling and high-performance statistical computation.\"\n",
    "\n",
    "\n",
    "In an ideal world the probabilstic model we use in stan to optimze would be the correct one we used in the hypothesis test. This background model is a uniform distribution, For stan this would be written how ```line_model_1``` is.\n",
    "\n",
    "\\begin{align}\n",
    "Pr_{BKG}= \\sum_{n = 0}^{N_{obs}} \\frac{1^{n}}{ref_{max} - ref_{min}}\n",
    "\\end{align}\n",
    "\n",
    "This can sometimes be unstable, so we resort to using a slightly more restricted background model which is the same as the foreground model but with a larger gausian.For stan this would be written how ```line_model_2``` is.\n",
    "\n",
    "\n",
    "\\begin{align}\n",
    "\\mathcal{L} = \\frac{1}{\\sqrt{2 \\pi (0.5)^{2}}} exp\\Big[-\\frac{(x-(e^{Y_{err}^{2} + BKG_{var}}))^{2}}{2 (0.5)^{2}}\\Big]\n",
    "\\end{align}\n",
    "\n",
    "It is kind of a hack but it works and doesnt make our calculations invalid so lets just go with it\n"
   ]
  },
  {
   "cell_type": "code",
   "execution_count": 10,
   "metadata": {},
   "outputs": [],
   "source": [
    "import pystan\n",
    "import numpy as np\n",
    "\n",
    "m = 0.4523 \n",
    "c = 328 \n",
    "M = 10\n",
    "x = px_obs\n",
    "data = best_match\n",
    "\n",
    "\n",
    "linear_data = {'N': M, \n",
    "               'y': data,\n",
    "               'y_err' : 1e-3*np.ones_like(data),\n",
    "               'x': x,\n",
    "               'bg_lower': 300,\n",
    "               'bg_upper': 1300\n",
    "               \n",
    "               }\n",
    "line_model_1 = \"\"\"\n",
    "data {\n",
    "    int<lower=1> N;\n",
    "    real y[N];\n",
    "    real y_err[N];\n",
    "    real x[N];\n",
    "    real bg_lower;\n",
    "    real bg_upper;\n",
    "}\n",
    "parameters {\n",
    "    real<lower=0.5, upper=1> q;\n",
    "    real m;\n",
    "    real c; \n",
    "}\n",
    "model {\n",
    "    for (n in 1:N) {\n",
    "    target += log_mix(q,\n",
    "                      normal_lpdf(y[n] | m * x[n] + c, y_err[n]),\n",
    "                      uniform_lpdf(y[n] | bg_lower, bg_upper));\n",
    "    }    \n",
    "}\n",
    "\"\"\"\n",
    "line_model_2 = \"\"\"\n",
    "data {\n",
    "    int<lower=1> N;\n",
    "    real y[N];\n",
    "    real y_err[N]; \n",
    "    real x[N]; \n",
    "    real bg_lower;\n",
    "    real bg_upper;   \n",
    "}\n",
    "parameters {\n",
    "    real<lower=0.5, upper=1> theta;\n",
    "    real m;\n",
    "    real<lower=0> c;\n",
    "    real<lower=0> bg_variance; \n",
    "}\n",
    "model {\n",
    "    for (n in 1:N) {\n",
    "    target += log_mix(theta,\n",
    "                      normal_lpdf(y[n] | m * x[n] + c, y_err[n]),\n",
    "                      normal_lpdf(y[n] | m * x[n] + c, pow(pow(y_err[n], 2) + bg_variance, 0.5)));\n",
    "    }   \n",
    "}\n",
    "\"\"\"  "
   ]
  },
  {
   "cell_type": "code",
   "execution_count": 11,
   "metadata": {},
   "outputs": [],
   "source": [
    "#sm = sn.build_stan()"
   ]
  },
  {
   "cell_type": "code",
   "execution_count": 12,
   "metadata": {},
   "outputs": [],
   "source": [
    "model = sn.load_stan_model(\"spectroscopy_net/data/model.pkl\")"
   ]
  },
  {
   "cell_type": "markdown",
   "metadata": {},
   "source": [
    "Using the model we have defined we run Stan on our data to try and optimze for both theta and the fraction of outliers using all our measurments to obtain the best possible fit to our data. \n",
    "\n",
    "We have the final and correct solution for mapping pixel values to Angstrom\n",
    "\n",
    "\n",
    "\n",
    "\n",
    "# NEEDS TO BE FIXED\n",
    "\n",
    "Currently when stan is run it returns a worse solution then the hypothesis test, this is because it is finding the best fraction of outliers to be 50% which make the fit less accurate."
   ]
  },
  {
   "cell_type": "code",
   "execution_count": 13,
   "metadata": {},
   "outputs": [
    {
     "name": "stdout",
     "output_type": "stream",
     "text": [
      "Outlier Fraction 0.5000000000000006\n",
      "Gradient 0.4529039922418926\n",
      "Intercept 327.90219646009837\n",
      "Theta diff after op: 0.00956589722391868\n",
      "y = ( 0.4529039922418926 x)  + 327.90219646009837\n"
     ]
    }
   ],
   "source": [
    "op2 = model.optimizing(data=linear_data);\n",
    "print(\"Outlier Fraction\", op2[(\"theta\")])\n",
    "print(\"Gradient\", op2[(\"m\")])\n",
    "print(\"Intercept\", op2[(\"c\")])\n",
    "\n",
    "theta_op = [op2[(\"m\")], op2[(\"c\")]]\n",
    "after = np.sum((theta_true - theta_op)**2)\n",
    "print(\"Theta diff after op:\", after)\n",
    "print(\"y = (\",op2[(\"m\")], \"x)  +\",op2[(\"c\")] )"
   ]
  },
  {
   "cell_type": "markdown",
   "metadata": {},
   "source": [
    "# STEP TWO:\n",
    "## Fitting many lines at once\n",
    "\n",
    "\n",
    "Here we now test this process on a larger data set where there are many echelle lines that need solutions. I have written some functions to create a simulated data and a ccd whihc can be used to test this on. \n",
    "\n",
    "Below we define some variables that are needed to create the data and then we import them from their saved locations.\n",
    "\n",
    "If the data needs to be recreated just uncomment the hashed lines"
   ]
  },
  {
   "cell_type": "code",
   "execution_count": 14,
   "metadata": {},
   "outputs": [
    {
     "data": {
      "image/png": "[encoded data removed]",
      "text/plain": [
       "<Figure size 720x288 with 4 Axes>"
      ]
     },
     "metadata": {
      "needs_background": "light"
     },
     "output_type": "display_data"
    }
   ],
   "source": [
    "import pickle \n",
    "\n",
    "deg = 1\n",
    "n_echelle = 10\n",
    "n_each_echelle = 10\n",
    "ccd_wl_low = 1000\n",
    "ccd_wl_high = 2000\n",
    "overlap = 0.1\n",
    "ccd_noise = 1e-4\n",
    "n_outliers_low = 1\n",
    "n_outliers_high = 4\n",
    "ref_wl_low = 800\n",
    "ref_wl_high = 2200\n",
    "ref_noise = 1e-4\n",
    "ref_size = 200\n",
    "\n",
    "min_bayes_factor = 10**9 \n",
    "\n",
    "C = sn.number_of_combinations(200,3)\n",
    "\n",
    "#ref = sn.build_ref(ref_wl_low, ref_wl_high, ref_noise, ref_size)\n",
    "#with open('spectroscopy_net/data/ref.pkl', 'wb') as f:\n",
    "    #pickle.dump(ref, f)\n",
    "\n",
    "reference = open(\"spectroscopy_net/data/ref.pkl\",\"rb\")\n",
    "reference = pickle.load(reference)\n",
    "\n",
    "#obs, theta_true = sn.build_ccd(ref,ref_size,n_echelle,n_each_echelle,ccd_wl_low,ccd_wl_high,ccd_noise,overlap,n_outliers_low,n_outliers_high)\n",
    "#with open('spectroscopy_net/data/obs.pkl', 'wb') as f:\n",
    "    #pickle.dump(obs, f)\n",
    "#with open('spectroscopy_net/data/theta_true.pkl', 'wb') as f:\n",
    "    #pickle.dump(theta_true, f)\n",
    "\n",
    "observations = open(\"spectroscopy_net/data/obs.pkl\",\"rb\")\n",
    "observations = pickle.load(observations)\n",
    "\n",
    "true_theta_values = open(\"spectroscopy_net/data/theta_true.pkl\",\"rb\")\n",
    "true_theta_values = pickle.load(true_theta_values)\n",
    "\n",
    "#multi_tree, echelle_ratios, echelle_wave_length = sn.build_tree(np.sort(ref[0]), 200, 3)\n",
    "\n",
    "echelle_ratios = np.memmap(\"spectroscopy_net/data/ratios.memmap\", dtype='float', mode='r', shape=(C, 1))\n",
    "echelle_wave_length = np.memmap(\"spectroscopy_net/data/wave_length.memmap\", dtype='float', mode='r', shape=(C, 3))\n",
    "multi_tree = spatial.KDTree(echelle_ratios)\n",
    "\n",
    "sn.graph_data(\n",
    "    np.hstack(observations[0]), \n",
    "    np.hstack(observations[2]), \n",
    "    np.hstack(observations[5]), \n",
    "    np.hstack(observations[5]), \n",
    "    ccd_wl_low, \n",
    "    ccd_wl_high, \n",
    "    \"jet\", \n",
    "    \"spectroscopy_net/data/spectral_data.pdf\"\n",
    ")"
   ]
  },
  {
   "cell_type": "markdown",
   "metadata": {},
   "source": [
    "The graph above shows our simulated data:\n",
    "\n",
    "TOP LEFT: Shows the measurements made on the ccd in x and y, It is clear here that there are distinct lines across the ccd, These are the echelle lines and the solutions along each are slightly different. The dark blue dots represent the outliers.\n",
    "\n",
    "TOP RIGHT: Same as top left but in 3d where the Z axis is the value of the true wavelength solution.\n",
    "\n",
    "BOTTOM: Shows how each echelle line maps from x pixel position to Angstrom.  \n",
    "\n",
    "# Solving \n",
    "\n",
    "Below is a function whihc takes the list of echelle lines and the reference data + data trees and uses the hypothesis test and optimisation in Step 1 to solve each of the echelle orders independently "
   ]
  },
  {
   "cell_type": "code",
   "execution_count": 15,
   "metadata": {},
   "outputs": [
    {
     "name": "stdout",
     "output_type": "stream",
     "text": [
      "FROM HYPOTHESIS\n",
      "Solution found\n",
      "Bayes Factor: [2.22247348e+22]\n",
      "True Theta: [1.050e-01 9.045e+02]\n",
      "Best Theta: [1.04931767e-01 9.04500042e+02]\n",
      "Theta Diff: 6.381275546259647e-09\n",
      "FROM OPTIMIZING\n",
      "Theta OP: 0.6666151440077951 0.18900030489610617\n",
      "Theta diff after op: 817778.6995811282\n",
      "***************\n",
      "FROM HYPOTHESIS\n",
      "Solution found\n",
      "Bayes Factor: [8.40008768e+19]\n",
      "True Theta: [1.070e-01 1.015e+03]\n",
      "Best Theta: [1.07296146e-01 1.01500000e+03]\n",
      "Theta Diff: 8.770424315126483e-08\n",
      "FROM OPTIMIZING\n",
      "Theta OP: 0.7986692737496981 0.19363082760304298\n",
      "Theta diff after op: 1029832.4453192475\n",
      "***************\n",
      "FROM HYPOTHESIS\n",
      "Solution found\n",
      "Bayes Factor: [2.28507481e+19]\n",
      "True Theta: [1.1000e-01 1.1255e+03]\n",
      "Best Theta: [1.09769482e-01 1.12550001e+03]\n",
      "Theta Diff: 5.318632885644794e-08\n",
      "FROM OPTIMIZING\n",
      "Theta OP: 0.10896107146204682 1125.758814486836\n",
      "Theta diff after op: 0.06698601796866051\n",
      "***************\n",
      "FROM HYPOTHESIS\n",
      "Solution found\n",
      "Bayes Factor: [1.55834715e+36]\n",
      "True Theta: [1.120e-01 1.236e+03]\n",
      "Best Theta: [1.12233450e-01 1.23599999e+03]\n",
      "Theta Diff: 5.453350008919946e-08\n",
      "FROM OPTIMIZING\n",
      "Theta OP: 0.11181394461417384 1236.8359548929586\n",
      "Theta diff after op: 0.6988206176780734\n",
      "***************\n",
      "FROM HYPOTHESIS\n",
      "Solution found\n",
      "Bayes Factor: [5.73352909e+28]\n",
      "True Theta: [1.1500e-01 1.3465e+03]\n",
      "Best Theta: [1.14810495e-01 1.34650007e+03]\n",
      "Theta Diff: 4.1355061820032334e-08\n",
      "FROM OPTIMIZING\n",
      "Theta OP: 0.11463932246719208 1347.071005906846\n",
      "Theta diff after op: 0.3260478757413507\n",
      "***************\n",
      "FROM HYPOTHESIS\n",
      "Solution found\n",
      "Bayes Factor: [2.23008006e+25]\n",
      "True Theta: [1.170e-01 1.457e+03]\n",
      "Best Theta: [1.17370888e-01 1.45700001e+03]\n",
      "Theta Diff: 1.3763705082543342e-07\n",
      "FROM OPTIMIZING\n",
      "Theta OP: 0.117305330825859 1457.0216068672785\n",
      "Theta diff after op: 0.00046694994050300905\n",
      "***************\n",
      "FROM HYPOTHESIS\n",
      "Solution found\n",
      "Bayes Factor: [2.14389813e+22]\n",
      "True Theta: [1.2000e-01 1.5675e+03]\n",
      "Best Theta: [1.20048012e-01 1.56750001e+03]\n",
      "Theta Diff: 2.4091851581559915e-09\n",
      "FROM OPTIMIZING\n",
      "Theta OP: 0.11961355381729324 1569.9309387527965\n",
      "Theta diff after op: 5.909463369188282\n",
      "***************\n",
      "FROM HYPOTHESIS\n",
      "Solution found\n",
      "Bayes Factor: [8.14994613e+19]\n",
      "True Theta: [1.230e-01 1.678e+03]\n",
      "Best Theta: [1.22699367e-01 1.67800002e+03]\n",
      "Theta Diff: 9.085748973027788e-08\n",
      "FROM OPTIMIZING\n",
      "Theta OP: 0.12316840557718868 1676.494309080469\n",
      "Theta diff after op: 2.2671051735183494\n",
      "***************\n",
      "FROM HYPOTHESIS\n",
      "Solution found\n",
      "Bayes Factor: [8.31535637e+25]\n",
      "True Theta: [1.2500e-01 1.7885e+03]\n",
      "Best Theta: [1.25470534e-01 1.78850000e+03]\n",
      "Theta Diff: 2.2140269522015413e-07\n",
      "FROM OPTIMIZING\n",
      "Theta OP: 0.12563254942785726 1788.3129951384828\n",
      "Theta diff after op: 0.03497121834982814\n",
      "***************\n",
      "FROM HYPOTHESIS\n",
      "Solution found\n",
      "Bayes Factor: [9.52320775e+29]\n",
      "True Theta: [1.280e-01 1.899e+03]\n",
      "Best Theta: [1.28369701e-01 1.89900000e+03]\n",
      "Theta Diff: 1.3667918315587667e-07\n",
      "FROM OPTIMIZING\n",
      "Theta OP: 0.1322801283351538 1897.8970117512233\n",
      "Theta diff after op: 1.2166013964380187\n",
      "***************\n"
     ]
    }
   ],
   "source": [
    "sn.solve(\n",
    "    \"spectroscopy_net/data/model.pkl\",\n",
    "    np.sort(reference[0]), \n",
    "    observations[0], \n",
    "    observations[4], \n",
    "    true_theta_values, \n",
    "    multi_tree, \n",
    "    echelle_ratios, \n",
    "    echelle_wave_length, \n",
    "    ref_wl_high, \n",
    "    ref_wl_low,\n",
    "    200,\n",
    "    3\n",
    ")"
   ]
  },
  {
   "cell_type": "markdown",
   "metadata": {},
   "source": [
    "# STEP THREE:\n",
    "## Non-Linear solutions\n",
    "\n",
    "Now that we can solve n number of linear echelle lines we need to develope a way to solve non linear solutions.\n",
    "\n",
    "Firstly lets create the data we will try do this with do this with.\n",
    "\n",
    "1. 10 observations on a 2048 pixel ccd\n",
    "2. Reference list contains 100 measurements\n",
    "4. 0 outliers "
   ]
  },
  {
   "cell_type": "code",
   "execution_count": 16,
   "metadata": {},
   "outputs": [
    {
     "data": {
      "text/plain": [
       "<matplotlib.collections.PathCollection at 0x11ebfb940>"
      ]
     },
     "execution_count": 16,
     "metadata": {},
     "output_type": "execute_result"
    },
    {
     "data": {
      "image/png": "[encoded data removed]",
      "text/plain": [
       "<Figure size 432x288 with 1 Axes>"
      ]
     },
     "metadata": {
      "needs_background": "light"
     },
     "output_type": "display_data"
    }
   ],
   "source": [
    "p = 1\n",
    "k = 1\n",
    "deg = 1\n",
    "min_bayes_factor = 10**9\n",
    "\n",
    "obs = np.sort(np.random.uniform(0, 2048, size=10))\n",
    "theta_true = np.array([0.00001, 0.5, 1200])\n",
    "y = np.polyval(theta_true, obs)\n",
    "\n",
    "min_wl = np.polyval(theta_true, 1)\n",
    "max_wl = np.polyval(theta_true, 2048)\n",
    "\n",
    "wl_upper = max_wl+100\n",
    "wl_lower = min_wl-100\n",
    "\n",
    "ref = np.sort(np.hstack([y, np.random.uniform(wl_lower, wl_upper, 90)]))\n",
    "obs += np.random.normal(0, 1e-4, size=10)\n",
    "ref += np.random.normal(0, 1e-4, size=100)\n",
    "\n",
    "C = sn.number_of_combinations(len(obs), p + 2)\n",
    "indices, ratios, tree = grow_tree(np.sort(ref), p=1)\n",
    "\n",
    "theta1 = np.polyfit(obs[:3], y[:3], deg=1)\n",
    "theta2 = np.polyfit(obs[-3:], y[-3:], deg=1)\n",
    "side1 = np.polyval(theta1, obs)\n",
    "side2 = np.polyval(theta2, obs)\n",
    "plt.plot(side1, obs)\n",
    "plt.plot(side2, obs)\n",
    "plt.plot(y, obs, 3)\n",
    "plt.xlim(min_wl, max_wl)\n",
    "plt.xlabel(\"Angstrom\")\n",
    "plt.ylabel(\"Pixel\")\n",
    "plt.scatter(y, obs)\n"
   ]
  },
  {
   "cell_type": "markdown",
   "metadata": {},
   "source": [
    "# Graph Above\n",
    "The blue dots represent the true solution, We can see there is some curvature. \n",
    "\n",
    "The Orange and Blue lines represent linear fits to the first and last three measurements in our observations (assumeing that we find the correct ratio in the KD Tree)\n",
    "\n",
    "# Method\n",
    "\n",
    "What we notice is that by splitting the data in half and using a linear fit on each section we construct a piecewise function that is almost as good as if we where to guess the correct polynomial (Green line).\n",
    "\n",
    "So we can essentially use the linear hypothesis test we used early but twice on each echelle line to guess the solutions to each half.\n",
    "Then calculate the probability of how well that piece wise function fits the data. \n",
    "\n",
    "If we pass these first two steps then we should know which observation lines match to what reference line. Once we know this when we optimse we can give it the observations, best matches and tell it to optimize for a 2nd order polynomial whihc should give us the correct solution. \n",
    "\n",
    "\n",
    "# Intersection Function \n",
    "\n",
    "Below is a function used to find the x, y point of intersection of two linear lines. This is needed to create our piece wise function.\n",
    "\n"
   ]
  },
  {
   "cell_type": "code",
   "execution_count": 17,
   "metadata": {},
   "outputs": [],
   "source": [
    "def perp( a ) :\n",
    "    b = np.empty_like(a)\n",
    "    b[0] = -a[1]\n",
    "    b[1] = a[0]\n",
    "    return b\n",
    "\n",
    "def seg_intersect(a1,a2, b1,b2) :\n",
    "    da = a2-a1\n",
    "    db = b2-b1\n",
    "    dp = a1-b1\n",
    "    dap = perp(da)\n",
    "    denom = np.dot( dap, db)\n",
    "    num = np.dot( dap, dp )\n",
    "    return (num / denom.astype(float))*db + b1"
   ]
  },
  {
   "cell_type": "code",
   "execution_count": 18,
   "metadata": {},
   "outputs": [],
   "source": [
    "a1 = np.array([side1[0], obs[0]])\n",
    "a2 = np.array([side1[2], obs[2]])\n",
    "\n",
    "b1 = np.array([side2[-1], obs[-1]])\n",
    "b2 = np.array([side2[-3], obs[-3]])\n",
    "\n",
    "intersect = seg_intersect(a1, a2, b1, b2)\n",
    "\n",
    "idx = np.where(obs < intersect[1])\n",
    "low = obs[idx]\n",
    "\n",
    "idx = np.where(obs > intersect[1])\n",
    "high = obs[idx]\n",
    "\n",
    "solution = np.piecewise(\n",
    "    obs, \n",
    "    [obs < intersect[1], obs >= intersect[1]], \n",
    "    [(low*theta1[0])+theta1[1], (high*theta2[0])+theta2[1]]\n",
    ")"
   ]
  },
  {
   "cell_type": "markdown",
   "metadata": {},
   "source": [
    "# Above\n",
    "I construct vectors out of the three points used to create of linear fit and feed this into the ```seg_intersection``` function which returns the point of intersection.\n",
    "\n",
    "With this point I then use ```np.piecewise``` to construct the piece wise function made out of the two lines.\n",
    "\n",
    "# Below\n",
    "\n",
    "I have to change the hypothesis test functions slightly to allow them to take the hypothesised piecewise function solutions into the foreground model likelihood calculation. In Step one and Step 2 the hypothesised Angstrom solutions where being calculated inside the function but here we do it outside. \n",
    "\n",
    "We also had to remove the invarience out of the foreground model as it was restricting the gausians around the correct match to much and was lowering the probability enormously"
   ]
  },
  {
   "cell_type": "code",
   "execution_count": 19,
   "metadata": {},
   "outputs": [],
   "source": [
    "def ln_likelihood1(w, wl_guess_free, px_obs_free, ref):\n",
    "    w = np.atleast_2d(w).T\n",
    "    bg = np.log(1-w) + np.atleast_2d(ll_background(px_obs_free))\n",
    "    ll_fore, best_solution = ll_foreground1(wl_guess_free, px_obs_free, ref)\n",
    "    \n",
    "    fg = np.log(w) + np.atleast_2d(ll_fore)\n",
    "    ln_like = np.sum(special.logsumexp([bg, fg], axis=0), axis=1)\n",
    "    \n",
    "    return ln_like, best_solution\n",
    "\n",
    "def ll_background(px_obs_free):\n",
    "    return -np.ones(len(px_obs_free)) * np.log(wl_upper - wl_lower)\n",
    "\n",
    "def ll_foreground1(wl_guess_free, px_obs_free, ref, px_obs_err=1e-4, wl_ref_err=1e-4):\n",
    "    \n",
    "    wl_obs = wl_guess_free.reshape(-1, 1)\n",
    "\n",
    "    D = spatial.distance_matrix(wl_obs, ref.reshape(-1, 1))\n",
    "    \n",
    "    idx = np.argmin(D, axis=1)\n",
    "    best_solution = ref[idx]\n",
    "    \n",
    "    chisq = np.min(D, axis=1)**2\n",
    "    ivar = 1e-2**-2\n",
    "    \n",
    "    ll_fore = -0.5 * chisq # * ivar\n",
    "    return ll_fore, best_solution\n",
    "\n",
    "def ln_prior(w):\n",
    "    lp = np.zeros(np.atleast_1d(w).size)\n",
    "    lp[(w > 1) | (w < 0)] = -np.inf\n",
    "    return lp\n",
    "\n",
    "def ln_probability1(w, wl_guess_free, px_obs_free, ref):\n",
    "    ln_like, best_solution = ln_likelihood1(w, wl_guess_free, px_obs_free, ref)\n",
    "    ln_prob = ln_prior(w) + ln_like\n",
    "    return ln_prob, best_solution"
   ]
  },
  {
   "cell_type": "code",
   "execution_count": 20,
   "metadata": {},
   "outputs": [
    {
     "name": "stdout",
     "output_type": "stream",
     "text": [
      "[28.60413775]\n"
     ]
    },
    {
     "data": {
      "image/png": "[encoded data removed]",
      "text/plain": [
       "<Figure size 432x288 with 1 Axes>"
      ]
     },
     "metadata": {
      "needs_background": "light"
     },
     "output_type": "display_data"
    }
   ],
   "source": [
    "ln_bg_prob = np.sum(ll_background(obs))\n",
    "\n",
    "ws = np.linspace(0, 1, 100)[1:-1]\n",
    "ln_prob, best_solution = ln_probability1(ws, solution, obs, ref)\n",
    "\n",
    "w = ws[np.argmax(ln_prob)]\n",
    "\n",
    "fig, ax = plt.subplots()\n",
    "ax.plot(ws, ln_prob)\n",
    "\n",
    "ln_prob, best_solution = ln_probability1(w, solution, obs, ref)\n",
    "\n",
    "bayes_factor = np.exp(ln_prob - ln_bg_prob)\n",
    "\n",
    "\n",
    "print(np.log10(bayes_factor))"
   ]
  },
  {
   "cell_type": "markdown",
   "metadata": {},
   "source": [
    "# Solution Found\n",
    "\n",
    "Now the we believe we have the correct matches to all of our observed emission lines we can optimize for a 3rd order polynomial and obtain the best possible solution.\n",
    "\n",
    "## NEEDS FIXING\n",
    "something not quite right with this, compiles but when trying to optimze we obtain time out error"
   ]
  },
  {
   "cell_type": "code",
   "execution_count": 21,
   "metadata": {},
   "outputs": [],
   "source": [
    "import pystan\n",
    "import numpy as np\n",
    "M = 10\n",
    "x = obs\n",
    "data = best_solution\n",
    "\n",
    "poly_data = {'N': M, \n",
    "               'y': data,\n",
    "               'y_err' : 1e-4*np.ones_like(data),\n",
    "               'x': x,\n",
    "               'bg_lower': wl_lower,\n",
    "               'bg_upper': wl_upper\n",
    "               \n",
    "               }\n",
    "\n",
    "poly_model = \"\"\"\n",
    "data {\n",
    "    int<lower=1> N;\n",
    "    real y[N];\n",
    "    real y_err[N]; \n",
    "    real x[N]; \n",
    "    real bg_lower;\n",
    "    real bg_upper;   \n",
    "}\n",
    "parameters {\n",
    "    real<lower=0, upper=1> theta;\n",
    "    real m;\n",
    "    real p;\n",
    "    real<lower=0> c;\n",
    "    real<lower=0> bg_variance; \n",
    "}\n",
    "model {\n",
    "    for (n in 1:N) {\n",
    "    target += log_mix(theta,\n",
    "                      normal_lpdf(y[n] | p * x[n]^2 + m * x[n] + c, y_err[n]),\n",
    "                      normal_lpdf(y[n] | p * x[n]^2 + m * x[n] + c, pow(pow(y_err[n], 2) + bg_variance, 0.5)));\n",
    "    }   \n",
    "}\n",
    "\"\"\" \n",
    "#sm3 = pystan.StanModel(model_code=poly_model)"
   ]
  },
  {
   "cell_type": "code",
   "execution_count": 22,
   "metadata": {},
   "outputs": [
    {
     "name": "stdout",
     "output_type": "stream",
     "text": [
      "Solution Diff: [-1.03178257e-04 -1.14654056e-05 -2.02566151e-04 -9.80198067e-05\n",
      " -3.08587398e+00 -1.25633958e-04  1.51430011e-05 -5.11929702e-05\n",
      "  1.38405460e-05  3.42450494e-06]\n",
      "Theta Diff: [-1.31662052e-06  2.91014696e-03 -1.00998300e+00]\n"
     ]
    }
   ],
   "source": [
    "#op3 = sm3.optimizing(data=poly_data);\n",
    "#print(\"Outlier Fraction\", op3[(\"theta\")])\n",
    "#print(\"2nd order:\", op3[(\"p\")])\n",
    "#print(\"1st order:\", op3[(\"m\")])\n",
    "#print(\"Intercept\", op3[(\"c\")])\n",
    "\n",
    "print(\"Solution Diff:\", data - y)\n",
    "print(\"Theta Diff:\", theta_true - np.polyfit(x, data, 2))"
   ]
  },
  {
   "cell_type": "markdown",
   "metadata": {},
   "source": [
    "# Lets do this blind now:\n",
    "\n",
    "Now we atempt to do what has been done above but blindly, this time we have to find the matches first then try to create the piece wise solution and evaltue how well it fits the data. "
   ]
  },
  {
   "cell_type": "code",
   "execution_count": 1,
   "metadata": {},
   "outputs": [],
   "source": [
    "import numpy as np\n",
    "import matplotlib.pyplot as plt\n",
    "from scipy import spatial, special, optimize as op\n",
    "from itertools import combinations\n",
    "from tqdm import tqdm\n",
    "from time import time\n",
    "from IPython.display import Latex\n",
    "import pystan\n",
    "import spectroscopy_net as sn\n",
    "import math\n",
    "import random \n",
    "random.seed(1) \n",
    "\n",
    "theta_true = np.array([-4.4e-06,  7.8e-02,  4.8e+03])\n",
    "N_ref = 20\n",
    "N_obs = 15\n",
    "N_pix = 2048\n",
    "wl_lower, wl_upper = (4790, 4950)\n",
    "deg = 1\n",
    "f = 0\n",
    "p = 1 \n",
    "\n",
    "data_kwds = dict(N_ref=N_ref, N_obs=N_obs, N_pix=N_pix,\n",
    "                 wl_lower=wl_lower, wl_upper=wl_upper,\n",
    "                 f=f, intrinsic_px_obs_err=1e-3, intrinsic_wl_ref_err=1e-4)\n",
    "\n",
    "obs, ref = sn.generate_data(theta_true, **data_kwds)\n",
    "\n",
    "px_obs, amp_obs, px_obs_err, px_sol = obs\n",
    "wl_ref, amp_ref, wl_ref_err = ref\n",
    "\n",
    "trees = sn.grow_tree(wl_ref, p=p)\n",
    "indices, ratios, tree = trees\n",
    "\n",
    "fig, ax = plt.subplots()\n",
    "ax.scatter(px_obs, px_sol)\n",
    "for each in wl_ref:\n",
    "    ax.axhline(each, c='#666666', lw=0.5, zorder=-1)"
   ]
  },
  {
   "cell_type": "code",
   "execution_count": 2,
   "metadata": {},
   "outputs": [
    {
     "name": "stderr",
     "output_type": "stream",
     "text": [
      " 40%|███▉      | 455/1140 [00:04<00:06, 105.93it/s]"
     ]
    },
    {
     "name": "stdout",
     "output_type": "stream",
     "text": [
      "Unsolved problem\n",
      "Bayes Factor: [942.22630716]\n",
      "Best Theta: [1.81542918e-03 4.83329510e+03]\n"
     ]
    },
    {
     "name": "stderr",
     "output_type": "stream",
     "text": [
      "\n"
     ]
    },
    {
     "data": {
      "text/plain": [
       "<matplotlib.collections.PathCollection at 0x1164a3f60>"
      ]
     },
     "execution_count": 2,
     "metadata": {},
     "output_type": "execute_result"
    },
    {
     "data": {
      "image/png": "[encoded data removed]",
      "text/plain": [
       "<Figure size 432x288 with 1 Axes>"
      ]
     },
     "metadata": {
      "needs_background": "light"
     },
     "output_type": "display_data"
    }
   ],
   "source": [
    "results = sn.solve_linear(obs, ref, trees)\n",
    "\n",
    "plt.scatter(px_obs, px_sol)\n",
    "plt.scatter(px_obs, np.polyval(results[1], px_obs))"
   ]
  },
  {
   "cell_type": "markdown",
   "metadata": {},
   "source": [
    "The function below and everything used to test the \"correctness\" of the solutions from different sections of the piece wise function can be found in the piece_wise.py script. This method of solving will fail if the first guess from the first segement is incorrect, we dont have a good way yet to re test failed solutions that become informed from later piee wise segments"
   ]
  },
  {
   "cell_type": "code",
   "execution_count": 3,
   "metadata": {},
   "outputs": [
    {
     "name": "stdout",
     "output_type": "stream",
     "text": [
      "Unsolved problem\n",
      "Bayes Factor: [1.94231341e+10]\n",
      "Unsolved problem\n",
      "Bayes Factor: [39692.77457787]\n",
      "Unsolved problem\n",
      "Bayes Factor: [4.47799833e+08]\n",
      "likely solution\n"
     ]
    },
    {
     "data": {
      "image/png": "[encoded data removed]",
      "text/plain": [
       "<Figure size 720x720 with 3 Axes>"
      ]
     },
     "metadata": {
      "needs_background": "light"
     },
     "output_type": "display_data"
    }
   ],
   "source": [
    "conditions = sn.solve_piecewise_test(obs, ref, trees, k=200, min_bayes_factor=10**11, max_split_depth=3)"
   ]
  },
  {
   "cell_type": "markdown",
   "metadata": {},
   "source": [
    "# Real data\n",
    "\n",
    "Now we try this on some real data, This data fails because there is an enourmouse fraction of outliers, still not sure how to deal with this. "
   ]
  },
  {
   "cell_type": "code",
   "execution_count": 4,
   "metadata": {},
   "outputs": [],
   "source": [
    "obs = np.loadtxt(\"spectroscopy_net/data/hd122563red_lamp1034ffbspecs.wsol\")\n",
    "x = obs[obs[:, 0] == 70][:, 1]\n",
    "x_sol = obs[obs[:, 0] == 70][:, -1]\n",
    "obs = (x, x_sol)\n",
    "\n",
    "ref = np.loadtxt(\"spectroscopy_net/data/mike_ThAr.dat\")\n",
    "ref = np.sort(ref)\n",
    "idx = np.where(ref < x_sol.min())\n",
    "ref = np.delete(ref, idx)\n",
    "idx = np.where(ref > x_sol.max())\n",
    "ref = np.delete(ref, idx)\n",
    "\n",
    "trees = sn.grow_tree(ref, p=p)\n",
    "indices, ratios, tree = trees"
   ]
  },
  {
   "cell_type": "code",
   "execution_count": 5,
   "metadata": {},
   "outputs": [
    {
     "data": {
      "text/plain": [
       "(array([ 112.803,  203.196,  210.4  ,  237.446,  269.373,  341.731,\n",
       "         380.035,  386.663,  437.041,  443.012,  464.871,  483.035,\n",
       "         515.521,  537.691,  557.466,  617.275,  632.827,  665.702,\n",
       "         760.285,  796.867,  812.457,  822.001,  843.43 ,  944.305,\n",
       "         954.971,  983.253, 1018.714, 1061.38 , 1070.724, 1079.318,\n",
       "        1095.98 , 1203.034, 1229.593, 1249.428, 1294.411, 1314.583,\n",
       "        1321.85 , 1341.576, 1354.934, 1404.032, 1413.679, 1458.389,\n",
       "        1474.479, 1484.901, 1496.654, 1502.378, 1555.133, 1592.403,\n",
       "        1611.064, 1667.279, 1673.379, 1849.909, 1904.385, 1914.806,\n",
       "        2020.235]),\n",
       " array([4847.809, 4863.172, 4865.477, 4872.916, 4878.733, 4879.863,\n",
       "        4889.042, 4894.955, 4904.751, 4919.815, 4933.209, 4939.642,\n",
       "        4945.458, 4965.079, 4972.159]))"
      ]
     },
     "execution_count": 5,
     "metadata": {},
     "output_type": "execute_result"
    }
   ],
   "source": [
    "x, ref"
   ]
  },
  {
   "cell_type": "markdown",
   "metadata": {},
   "source": [
    "function is slightly different but does the extact same thing"
   ]
  },
  {
   "cell_type": "code",
   "execution_count": 6,
   "metadata": {},
   "outputs": [
    {
     "name": "stderr",
     "output_type": "stream",
     "text": [
      "969it [00:10, 89.99it/s]                         \n",
      "  3%|▎         | 13/455 [00:00<00:03, 123.34it/s]"
     ]
    },
    {
     "name": "stdout",
     "output_type": "stream",
     "text": [
      "Unsolved problem\n",
      "Bayes Factor: [19108744.77556387]\n"
     ]
    },
    {
     "name": "stderr",
     "output_type": "stream",
     "text": [
      "816it [00:05, 145.76it/s]                         \n",
      "  3%|▎         | 12/455 [00:00<00:03, 118.85it/s]"
     ]
    },
    {
     "name": "stdout",
     "output_type": "stream",
     "text": [
      "Unsolved problem\n",
      "Bayes Factor: 10\n"
     ]
    },
    {
     "name": "stderr",
     "output_type": "stream",
     "text": [
      "816it [00:06, 128.53it/s]                         \n",
      "  2%|▏         | 9/455 [00:00<00:05, 82.60it/s]"
     ]
    },
    {
     "name": "stdout",
     "output_type": "stream",
     "text": [
      "Unsolved problem\n",
      "Bayes Factor: 10\n",
      "No match\n"
     ]
    },
    {
     "name": "stderr",
     "output_type": "stream",
     "text": [
      "816it [00:08, 93.18it/s]                          \n",
      "  3%|▎         | 14/455 [00:00<00:03, 135.57it/s]"
     ]
    },
    {
     "name": "stdout",
     "output_type": "stream",
     "text": [
      "Unsolved problem\n",
      "Bayes Factor: [14831648.33894605]\n"
     ]
    },
    {
     "name": "stderr",
     "output_type": "stream",
     "text": [
      "816it [00:05, 145.35it/s]                         \n",
      "  2%|▏         | 11/455 [00:00<00:04, 103.72it/s]"
     ]
    },
    {
     "name": "stdout",
     "output_type": "stream",
     "text": [
      "Unsolved problem\n",
      "Bayes Factor: 10\n"
     ]
    },
    {
     "name": "stderr",
     "output_type": "stream",
     "text": [
      "969it [00:07, 126.84it/s]                         \n",
      "  2%|▏         | 8/455 [00:00<00:05, 77.27it/s]"
     ]
    },
    {
     "name": "stdout",
     "output_type": "stream",
     "text": [
      "Unsolved problem\n",
      "Bayes Factor: 10\n",
      "No match\n"
     ]
    },
    {
     "name": "stderr",
     "output_type": "stream",
     "text": [
      "816it [00:08, 94.11it/s]                          \n",
      "  3%|▎         | 13/455 [00:00<00:03, 127.41it/s]"
     ]
    },
    {
     "name": "stdout",
     "output_type": "stream",
     "text": [
      "Unsolved problem\n",
      "Bayes Factor: [5557896.34546796]\n"
     ]
    },
    {
     "name": "stderr",
     "output_type": "stream",
     "text": [
      "969it [00:06, 147.44it/s]                         \n",
      "  3%|▎         | 13/455 [00:00<00:03, 128.91it/s]"
     ]
    },
    {
     "name": "stdout",
     "output_type": "stream",
     "text": [
      "Unsolved problem\n",
      "Bayes Factor: 10\n"
     ]
    },
    {
     "name": "stderr",
     "output_type": "stream",
     "text": [
      "816it [00:06, 134.99it/s]                         \n"
     ]
    },
    {
     "name": "stdout",
     "output_type": "stream",
     "text": [
      "Unsolved problem\n",
      "Bayes Factor: 10\n",
      "No match\n"
     ]
    },
    {
     "data": {
      "image/png": "[encoded data removed]",
      "text/plain": [
       "<Figure size 720x720 with 3 Axes>"
      ]
     },
     "metadata": {
      "needs_background": "light"
     },
     "output_type": "display_data"
    }
   ],
   "source": [
    "conditions = sn.solve_piecewise_mike(obs, ref, trees, k=10, min_bayes_factor=10**9, max_split_depth=3)"
   ]
  },
  {
   "cell_type": "code",
   "execution_count": null,
   "metadata": {},
   "outputs": [],
   "source": []
  }
 ],
 "metadata": {
  "kernelspec": {
   "display_name": "Python 3 (ipykernel)",
   "language": "python",
   "name": "python3"
  },
  "language_info": {
   "codemirror_mode": {
    "name": "ipython",
    "version": 3
   },
   "file_extension": ".py",
   "mimetype": "text/x-python",
   "name": "python",
   "nbconvert_exporter": "python",
   "pygments_lexer": "ipython3",
   "version": "3.9.19"
  }
 },
 "nbformat": 4,
 "nbformat_minor": 4
}
